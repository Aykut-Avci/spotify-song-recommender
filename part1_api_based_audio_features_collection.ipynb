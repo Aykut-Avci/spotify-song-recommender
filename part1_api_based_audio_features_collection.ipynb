{
 "cells": [
  {
   "cell_type": "markdown",
   "id": "ba7d9bd1",
   "metadata": {},
   "source": [
    "# Song Recommender"
   ]
  },
  {
   "cell_type": "markdown",
   "id": "d7f03e10",
   "metadata": {},
   "source": [
    "## Connecting to API "
   ]
  },
  {
   "cell_type": "code",
   "execution_count": 1,
   "id": "c81ece57",
   "metadata": {},
   "outputs": [],
   "source": [
    "import config\n",
    "import pandas as pd\n",
    "import time\n",
    "import numpy as np\n",
    "import pandas as pd\n",
    "import pickle\n",
    "from sklearn import datasets # sklearn comes with some toy datasets to practise\n",
    "from sklearn.preprocessing import StandardScaler\n",
    "from sklearn.cluster import KMeans\n",
    "from matplotlib import pyplot\n",
    "from sklearn.metrics import silhouette_score\n",
    "import spotipy\n",
    "import json\n",
    "from spotipy.oauth2 import SpotifyClientCredentials\n",
    "from kneed import KneeLocator\n",
    "from IPython.display import IFrame\n",
    "from helpers import play_song\n",
    "from helpers import get_playlist_tracks\n",
    "from helpers import load\n",
    "\n",
    "\n"
   ]
  },
  {
   "cell_type": "code",
   "execution_count": 2,
   "id": "3467ce6d",
   "metadata": {},
   "outputs": [],
   "source": [
    "sp = spotipy.Spotify(auth_manager=SpotifyClientCredentials(client_id= config.client_id,\n",
    "                                                           client_secret= config.client_secret))"
   ]
  },
  {
   "cell_type": "code",
   "execution_count": 3,
   "id": "ab39c7f7",
   "metadata": {
    "scrolled": true
   },
   "outputs": [
    {
     "data": {
      "text/plain": [
       "'7600aaf3d2c548358653f125b5caecbf'"
      ]
     },
     "execution_count": 3,
     "metadata": {},
     "output_type": "execute_result"
    }
   ],
   "source": [
    "config.client_id\n",
    "config.client_secret"
   ]
  },
  {
   "cell_type": "markdown",
   "id": "da868048",
   "metadata": {},
   "source": [
    "## Defining necessary functions to create a data pipeline and obtain a dataframe with audio features of diverse tracks"
   ]
  },
  {
   "cell_type": "code",
   "execution_count": 4,
   "id": "44d79496",
   "metadata": {},
   "outputs": [],
   "source": [
    "def get_playlist_tracks(username, playlist_id):\n",
    "    try:\n",
    "        \n",
    "        results = sp.user_playlist_tracks(username,playlist_id,market=\"GB\")\n",
    "        tracks = results['items']\n",
    "        while results['next']:\n",
    "            try:\n",
    "                results = sp.next(results)\n",
    "                tracks.extend(results['items'])\n",
    "            except:\n",
    "                pass\n",
    "    except:\n",
    "        pass\n",
    "    return tracks"
   ]
  },
  {
   "cell_type": "code",
   "execution_count": 5,
   "id": "2c5e250b",
   "metadata": {},
   "outputs": [],
   "source": [
    "def pl_collector(genres):\n",
    "    playlists_all = []                     # searching for playlists which contain keywords in genres list\n",
    "\n",
    "\n",
    "\n",
    "    for id, genre in enumerate(genres):\n",
    "    \n",
    "        print(id)\n",
    "        try:\n",
    "            pl_result = sp.search(q=genre, limit=50,type='playlist',market='GB')\n",
    "            playlists = pl_result['playlists']['items']\n",
    "            playlists_all.extend(playlists)\n",
    "        except:\n",
    "            pass\n",
    "    return playlists_all"
   ]
  },
  {
   "cell_type": "code",
   "execution_count": 6,
   "id": "e15da34c",
   "metadata": {},
   "outputs": [],
   "source": [
    "def pl_filter(playlists_all):                #filtering tracklist ids that have >100 songs \n",
    "\n",
    "    \n",
    "    playlists_200 = []\n",
    "\n",
    "    for i in range(len(playlists_all)):\n",
    "    \n",
    "        no_tracks = playlists_all[i]['tracks']['total']\n",
    "        if no_tracks > 200:\n",
    "            playlists_200.append(playlists_all[i]['id'])\n",
    "\n",
    "    no_of_tracks = 0\n",
    "    for item in playlists_all:\n",
    "            if item['id'] in playlists_200:\n",
    "                no = item['tracks']['total']\n",
    "                no_of_tracks += no\n",
    "    return playlists_200"
   ]
  },
  {
   "cell_type": "code",
   "execution_count": 7,
   "id": "39360ad0",
   "metadata": {},
   "outputs": [],
   "source": [
    "def track_collector(playlists_200):\n",
    "        \n",
    "    \n",
    "    all_tracks = []\n",
    "    for id in playlists_200:\n",
    "        tracks = get_playlist_tracks(\"spotify\", id)\n",
    "        all_tracks.extend(tracks)\n",
    "    return all_tracks\n",
    "    \n"
   ]
  },
  {
   "cell_type": "code",
   "execution_count": 8,
   "id": "e04bdd0f",
   "metadata": {},
   "outputs": [],
   "source": [
    "def track_ids(all_tracks):    \n",
    "    track_ids = []\n",
    "    \n",
    "\n",
    "    for item in all_tracks: \n",
    "        try:\n",
    "                                                                #Collecting ids of all tracks in one list\n",
    "            id_no = item['track']['id']\n",
    "            track_ids.append(id_no)\n",
    "        except:\n",
    "            pass\n",
    "    return track_ids"
   ]
  },
  {
   "cell_type": "code",
   "execution_count": 9,
   "id": "6a3a1520",
   "metadata": {},
   "outputs": [],
   "source": [
    "def audio_feature_collector(track_ids):             #returns a list of audio features of all tracks \n",
    "    \n",
    "    list_of_audio_features=[]\n",
    "\n",
    "    \n",
    "\n",
    "    for it, id_no in enumerate(track_ids):\n",
    "        \n",
    "\n",
    "        \n",
    "        try:\n",
    "            list_of_audio_features.append(sp.audio_features(id_no)[0])\n",
    "            moment = time.time()\n",
    "            if it%1000==0:\n",
    "                time.sleep(3)\n",
    "                print('{} iterations complete'.format(it))\n",
    "        except:\n",
    "\n",
    "            pass\n",
    "           \n",
    "    return list_of_audio_features"
   ]
  },
  {
   "cell_type": "code",
   "execution_count": 10,
   "id": "c357f95e",
   "metadata": {},
   "outputs": [],
   "source": [
    "def pipeline(lst_of_genre):\n",
    "    pls = pl_collector(lst_of_genre)\n",
    "    print('playlists are collected')\n",
    "    pl_filtered = pl_filter(pls)\n",
    "    print('playlists are filtered, {} playlists were found'.format(len(pl_filtered)))\n",
    "    all_tracks = track_collector(pl_filtered)\n",
    "    print('track ids are collected')\n",
    "    print('In total {} tracks were obtained'.format(len(all_tracks)))\n",
    "    t_ids = track_ids(all_tracks)\n",
    "\n",
    "    audio_features = audio_feature_collector(t_ids)\n",
    "    print('audio features are collected')\n",
    "    \n",
    "    return [audio_features, all_tracks]\n",
    "    \n",
    "    \n",
    "    "
   ]
  },
  {
   "cell_type": "code",
   "execution_count": null,
   "id": "ffa4b647",
   "metadata": {},
   "outputs": [],
   "source": []
  },
  {
   "cell_type": "markdown",
   "id": "0998b22a",
   "metadata": {},
   "source": [
    "## Running the pipeline function to get song data "
   ]
  },
  {
   "cell_type": "code",
   "execution_count": null,
   "id": "0636d973",
   "metadata": {
    "scrolled": true
   },
   "outputs": [
    {
     "name": "stdout",
     "output_type": "stream",
     "text": [
      "0\n",
      "1\n",
      "2\n",
      "3\n",
      "4\n",
      "5\n",
      "6\n",
      "7\n",
      "8\n",
      "9\n",
      "10\n",
      "11\n",
      "12\n",
      "13\n",
      "14\n",
      "15\n",
      "16\n",
      "17\n",
      "18\n",
      "19\n",
      "20\n",
      "playlists are collected\n",
      "playlists are filtered, 204 playlists were found\n",
      "track ids are collected\n",
      "In total 119235 tracks were obtained\n",
      "0 iterations complete\n",
      "1000 iterations complete\n"
     ]
    }
   ],
   "source": [
    "genres = [\"60s\",\"70s\",\"80s\",\"90s\",\"00s\",\"10s\", \"20s\",\"Country\",\"Electronic\",\"Funk\",\"Hip-hop\",\"Jazz\",\"Latin\", \"Pop\",\"Punk\",\"Reggae\",\"Rock\",\"Metal\",\"Soul\", \"R&B\",\"Classic Music\"]\n",
    "\n",
    "\n",
    "df = pipeline(genres)"
   ]
  },
  {
   "cell_type": "markdown",
   "id": "8f11e04d",
   "metadata": {
    "jp-MarkdownHeadingCollapsed": true
   },
   "source": [
    "## Concatenating the data frames to have all tracks in one data frame"
   ]
  },
  {
   "cell_type": "markdown",
   "id": "0b9e469d",
   "metadata": {},
   "source": [
    "## Adding song and artist name to the features dataframe"
   ]
  },
  {
   "cell_type": "code",
   "execution_count": null,
   "id": "f97cdcba",
   "metadata": {},
   "outputs": [],
   "source": [
    "audio_features = df[0]\n",
    "all_tracks = df[1]\n"
   ]
  },
  {
   "cell_type": "code",
   "execution_count": null,
   "id": "39e68753",
   "metadata": {},
   "outputs": [],
   "source": [
    "for i in audio_features:\n",
    "    if type(i) == None:\n",
    "        del i\n",
    "\n",
    "\n",
    "    \n"
   ]
  },
  {
   "cell_type": "code",
   "execution_count": null,
   "id": "203f4e31",
   "metadata": {},
   "outputs": [],
   "source": [
    "\n",
    "\n",
    "df=pd.DataFrame(audio_features)    \n",
    "df=df[[\"danceability\",\"energy\",\"loudness\",\"speechiness\",\"acousticness\",\n",
    "\"instrumentalness\",\"liveness\",\"valence\",\"tempo\",\"id\",\"duration_ms\"]]\n",
    "df=df.sort_index(axis=1)\n",
    "\n",
    "artist_list = []\n",
    "song_list = []\n",
    "id_list = []\n",
    "\n",
    "for i in range(len(all_tracks)):\n",
    "    artist = all_tracks[i]['track']['artists'][0]['name']\n",
    "    song_name= all_tracks[i]['track']['name']\n",
    "    song_id =  all_tracks[i]['track']['id']\n",
    "    artist_list.append(artist)\n",
    "    song_list.append(song_name)\n",
    "    id_list.append(song_id)\n",
    "\n",
    "\n",
    "\n",
    "song_info = {'artist':artist_list, 'song':song_list, 'id':id_list}    \n",
    "df_song_info = pd.DataFrame(song_info)\n",
    "df_last = pd.merge(df, df_song_info, on=\"id\")\n",
    "df_last"
   ]
  },
  {
   "cell_type": "code",
   "execution_count": null,
   "id": "77a3745a",
   "metadata": {},
   "outputs": [],
   "source": [
    "import pickle\n",
    "\n",
    "with open('outfile', 'wb') as fp:\n",
    "    pickle.dump(audio_features, fp)"
   ]
  },
  {
   "cell_type": "code",
   "execution_count": null,
   "id": "b4c5ddef",
   "metadata": {},
   "outputs": [],
   "source": [
    "with open('outfile', 'rb') as f:\n",
    "    x = pickle.load(f)"
   ]
  },
  {
   "cell_type": "code",
   "execution_count": null,
   "id": "ce39a1d7",
   "metadata": {},
   "outputs": [],
   "source": [
    "x"
   ]
  },
  {
   "cell_type": "code",
   "execution_count": null,
   "id": "33a20ce9",
   "metadata": {},
   "outputs": [],
   "source": [
    "list_of_audio_features = list(filter(None, x))"
   ]
  },
  {
   "cell_type": "code",
   "execution_count": null,
   "id": "b8a4e7cf",
   "metadata": {},
   "outputs": [],
   "source": [
    "df = pd.DataFrame(list_of_audio_features)"
   ]
  },
  {
   "cell_type": "code",
   "execution_count": null,
   "id": "dc7b3995",
   "metadata": {},
   "outputs": [],
   "source": [
    "df"
   ]
  },
  {
   "cell_type": "code",
   "execution_count": null,
   "id": "0ed7c6bd",
   "metadata": {},
   "outputs": [],
   "source": [
    "df.to_csv('listofaudio.csv')"
   ]
  },
  {
   "cell_type": "code",
   "execution_count": null,
   "id": "a5a1740a",
   "metadata": {},
   "outputs": [],
   "source": []
  }
 ],
 "metadata": {
  "kernelspec": {
   "display_name": "Python 3 (ipykernel)",
   "language": "python",
   "name": "python3"
  },
  "language_info": {
   "codemirror_mode": {
    "name": "ipython",
    "version": 3
   },
   "file_extension": ".py",
   "mimetype": "text/x-python",
   "name": "python",
   "nbconvert_exporter": "python",
   "pygments_lexer": "ipython3",
   "version": "3.9.19"
  },
  "toc": {
   "base_numbering": 1,
   "nav_menu": {},
   "number_sections": true,
   "sideBar": true,
   "skip_h1_title": false,
   "title_cell": "Table of Contents",
   "title_sidebar": "Contents",
   "toc_cell": false,
   "toc_position": {
    "height": "calc(100% - 180px)",
    "left": "10px",
    "top": "150px",
    "width": "279.273px"
   },
   "toc_section_display": true,
   "toc_window_display": true
  }
 },
 "nbformat": 4,
 "nbformat_minor": 5
}
